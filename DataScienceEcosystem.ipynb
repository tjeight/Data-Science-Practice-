{
 "cells": [
  {
   "cell_type": "markdown",
   "id": "ced0fb93-4685-4d05-808b-7d18b396c0b5",
   "metadata": {},
   "source": [
    "# Data Science Tools and Ecosystem"
   ]
  },
  {
   "cell_type": "markdown",
   "id": "59d03cd7-3fa3-495d-ba8e-c9bddec5a4f2",
   "metadata": {},
   "source": [
    "In this notebook, Data Science Tools and Ecosystem are summarized."
   ]
  },
  {
   "cell_type": "markdown",
   "id": "133051b0-a94d-4af8-9691-0072c0f08daa",
   "metadata": {},
   "source": [
    "**Objectives:**\n",
    "\n",
    "+ How to insert a new cell\n",
    "+ How to create a new markdown\n",
    "+ How to perform the operations in jupyter notebook\n",
    "+ How to print the output\n",
    "+ New shortcuts of the jupyter notebook"
   ]
  },
  {
   "cell_type": "markdown",
   "id": "1074718b-1593-4fe1-bdf7-b0f9bd9a0045",
   "metadata": {},
   "source": [
    "1. Python\n",
    "2. R\n",
    "3. SQL\n",
    "4. PowerBI"
   ]
  },
  {
   "cell_type": "markdown",
   "id": "04921ebf-b250-4a2b-8c4a-36d0184dc20e",
   "metadata": {},
   "source": [
    "1. Numpy\n",
    "2. Pandas\n",
    "3. Matplotlib\n",
    "   "
   ]
  },
  {
   "cell_type": "markdown",
   "id": "07b1004c-572c-481b-9707-87d56040e878",
   "metadata": {},
   "source": [
    "| Data Science Tools |\n",
    "| --- |\n",
    "| Jupyter Notebook |\n",
    "| Visual Studio Code |\n",
    "| RStudio |\n"
   ]
  },
  {
   "cell_type": "markdown",
   "id": "3ad2e418-7b2e-498e-8847-5899ab343f79",
   "metadata": {},
   "source": [
    "### Below are a few examples of evaluating arithmetic expressions in Python.\n"
   ]
  },
  {
   "cell_type": "code",
   "execution_count": 2,
   "id": "44edd709-2343-443f-b63c-dc56fe44f88f",
   "metadata": {},
   "outputs": [
    {
     "data": {
      "text/plain": [
       "17"
      ]
     },
     "execution_count": 2,
     "metadata": {},
     "output_type": "execute_result"
    }
   ],
   "source": [
    "# This is a simple arithmetic expression to multiply then add integers\n",
    "(3*4) + 5\n"
   ]
  },
  {
   "cell_type": "code",
   "execution_count": 3,
   "id": "5af7e986-47dc-4946-9c95-9d22927cef45",
   "metadata": {},
   "outputs": [
    {
     "data": {
      "text/plain": [
       "3.3333333333333335"
      ]
     },
     "execution_count": 3,
     "metadata": {},
     "output_type": "execute_result"
    }
   ],
   "source": [
    "# This will convert 200 minutes to hours by dividing by 60\n",
    "200 / 60\n"
   ]
  },
  {
   "cell_type": "markdown",
   "id": "7976454c-620d-4af3-827a-ff9f7b7a9417",
   "metadata": {},
   "source": [
    "## Author\n",
    "Tejas Jagdale"
   ]
  },
  {
   "cell_type": "code",
   "execution_count": null,
   "id": "68a4d1b5-53f3-4fb2-b50e-8013bcd132e5",
   "metadata": {},
   "outputs": [],
   "source": []
  },
  {
   "cell_type": "code",
   "execution_count": null,
   "id": "f07bc889-ba1d-424b-b444-a3cebd39f6c6",
   "metadata": {},
   "outputs": [],
   "source": []
  }
 ],
 "metadata": {
  "kernelspec": {
   "display_name": "Python 3 (ipykernel)",
   "language": "python",
   "name": "python3"
  },
  "language_info": {
   "codemirror_mode": {
    "name": "ipython",
    "version": 3
   },
   "file_extension": ".py",
   "mimetype": "text/x-python",
   "name": "python",
   "nbconvert_exporter": "python",
   "pygments_lexer": "ipython3",
   "version": "3.12.8"
  }
 },
 "nbformat": 4,
 "nbformat_minor": 5
}
